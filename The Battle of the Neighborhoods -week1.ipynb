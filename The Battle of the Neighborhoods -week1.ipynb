{
    "cells": [
        {
            "metadata": {},
            "cell_type": "markdown",
            "source": "###### Problem Statement\n\n"
        },
        {
            "metadata": {},
            "cell_type": "markdown",
            "source": "The objective is to locate and recommend to the client which neighbourhood in New York City will be best choice to start a restaurant.\n"
        },
        {
            "metadata": {},
            "cell_type": "markdown",
            "source": "New York city population and demographic data"
        },
        {
            "metadata": {},
            "cell_type": "markdown",
            "source": "Data source : https://en.wikipedia.org/wiki/New_York_City ; https://en.wikipedia.org/wiki/Demographics_of_New_York_City."
        },
        {
            "metadata": {},
            "cell_type": "code",
            "source": "!pip install folium\nimport pandas as pd\nimport numpy as np\n\npd.set_option('display.max_columns', None)\npd.set_option('display.max_rows', None)\n\nimport requests\nfrom bs4 import BeautifulSoup\nfrom geopy.geocoders import Nominatim # convert an address into latitude and longitude values\n#!conda install -c conda-forge folium\n\nimport os\nimport folium # map rendering library\n# Matplotlib and associated plotting modules\n\nimport matplotlib.pyplot as plt\nimport matplotlib.cm as cm\nimport matplotlib.colors as colors\nimport matplotlib as mp\nimport re\nimport csv\n%matplotlib inline\n\n\nprint('Libraries imported.')",
            "execution_count": 3,
            "outputs": [
                {
                    "output_type": "stream",
                    "text": "Collecting folium\n  Downloading folium-0.12.1-py2.py3-none-any.whl (94 kB)\n\u001b[K     |\u2588\u2588\u2588\u2588\u2588\u2588\u2588\u2588\u2588\u2588\u2588\u2588\u2588\u2588\u2588\u2588\u2588\u2588\u2588\u2588\u2588\u2588\u2588\u2588\u2588\u2588\u2588\u2588\u2588\u2588\u2588\u2588| 94 kB 5.6 MB/s  eta 0:00:01\n\u001b[?25hRequirement already satisfied: numpy in /opt/conda/envs/Python-3.7-main/lib/python3.7/site-packages (from folium) (1.18.5)\nCollecting branca>=0.3.0\n  Downloading branca-0.4.2-py3-none-any.whl (24 kB)\nRequirement already satisfied: requests in /opt/conda/envs/Python-3.7-main/lib/python3.7/site-packages (from folium) (2.24.0)\nRequirement already satisfied: jinja2>=2.9 in /opt/conda/envs/Python-3.7-main/lib/python3.7/site-packages (from folium) (2.11.2)\nRequirement already satisfied: chardet<4,>=3.0.2 in /opt/conda/envs/Python-3.7-main/lib/python3.7/site-packages (from requests->folium) (3.0.4)\nRequirement already satisfied: urllib3!=1.25.0,!=1.25.1,<1.26,>=1.21.1 in /opt/conda/envs/Python-3.7-main/lib/python3.7/site-packages (from requests->folium) (1.25.9)\nRequirement already satisfied: certifi>=2017.4.17 in /opt/conda/envs/Python-3.7-main/lib/python3.7/site-packages (from requests->folium) (2020.12.5)\nRequirement already satisfied: idna<3,>=2.5 in /opt/conda/envs/Python-3.7-main/lib/python3.7/site-packages (from requests->folium) (2.9)\nRequirement already satisfied: MarkupSafe>=0.23 in /opt/conda/envs/Python-3.7-main/lib/python3.7/site-packages (from jinja2>=2.9->folium) (1.1.1)\nInstalling collected packages: branca, folium\nSuccessfully installed branca-0.4.2 folium-0.12.1\nLibraries imported.\n",
                    "name": "stdout"
                }
            ]
        },
        {
            "metadata": {},
            "cell_type": "code",
            "source": "### preparation of the table\nresponse_obj = requests.get('https://en.wikipedia.org/wiki/New_York_City').text\nsoup = BeautifulSoup(response_obj,'lxml')\nNeighborhoods_NYC_Table = soup.find('table', {'class':'wikitable sortable'})\n",
            "execution_count": 4,
            "outputs": []
        },
        {
            "metadata": {},
            "cell_type": "code",
            "source": "rows = Neighborhoods_NYC_Table.select(\"tbody > tr\")[3:8]\n\nboroughs = []\nfor row in rows:\n    borough = {}\n    tds = row.select('td')\n    borough[\"borough\"] = tds[0].text.strip()\n    borough[\"county\"] = tds[1].text.strip()\n    borough[\"population\"] = float(tds[2].text.strip().replace(\",\",\"\"))\n    borough[\"gdp_billions\"] = float(tds[3].text.strip().replace(\",\",\"\"))\n    borough[\"gdp_per_capita\"] = float(tds[4].text.strip().replace(\",\",\"\"))\n    borough[\"land_sqm\"] = float(tds[5].text.strip().replace(\",\",\"\"))\n    borough[\"land_sqkm\"] = float(tds[6].text.strip().replace(\",\",\"\"))\n    borough[\"persons_sqm\"] = float(tds[7].text.strip().replace(\",\",\"\"))\n    borough[\"persons_sqkm\"] = float(tds[7].text.strip().replace(\",\",\"\"))\n    \n    boroughs.append(borough)\n\nprint(boroughs)",
            "execution_count": 9,
            "outputs": [
                {
                    "output_type": "stream",
                    "text": "[{'borough': 'The Bronx', 'county': 'Bronx', 'population': 1418207.0, 'gdp_billions': 42.695, 'gdp_per_capita': 42.1, 'land_sqm': 109.04, 'land_sqkm': 33867.0, 'persons_sqm': 13006.0, 'persons_sqkm': 13006.0}, {'borough': 'Brooklyn', 'county': 'Kings', 'population': 2559903.0, 'gdp_billions': 91.559, 'gdp_per_capita': 70.82, 'land_sqm': 183.42, 'land_sqkm': 36147.0, 'persons_sqm': 13957.0, 'persons_sqkm': 13957.0}, {'borough': 'Manhattan', 'county': 'New York', 'population': 1628706.0, 'gdp_billions': 600.244, 'gdp_per_capita': 22.83, 'land_sqm': 59.13, 'land_sqkm': 71341.0, 'persons_sqm': 27544.0, 'persons_sqkm': 27544.0}, {'borough': 'Queens', 'county': 'Queens', 'population': 2253858.0, 'gdp_billions': 93.31, 'gdp_per_capita': 108.53, 'land_sqm': 281.09, 'land_sqkm': 20767.0, 'persons_sqm': 8018.0, 'persons_sqkm': 8018.0}, {'borough': 'Staten Island', 'county': 'Richmond', 'population': 476143.0, 'gdp_billions': 14.514, 'gdp_per_capita': 58.37, 'land_sqm': 151.18, 'land_sqkm': 8157.0, 'persons_sqm': 3150.0, 'persons_sqkm': 3150.0}]\n",
                    "name": "stdout"
                }
            ]
        },
        {
            "metadata": {},
            "cell_type": "code",
            "source": "response_obj = requests.get('https://en.wikipedia.org/wiki/Demographics_of_New_York_City').text\nsoup = BeautifulSoup(response_obj,'lxml')\nPopulation_Census_Table = soup.select_one('.wikitable:nth-of-type(5)') #use css selector to target correct table.\n\njurisdictions = []\nrows = Population_Census_Table.select(\"tbody > tr\")[3:8]\nfor row in rows:\n    jurisdiction = {}\n    tds = row.select('td')\n    jurisdiction[\"jurisdiction\"] = tds[0].text.strip()\n    jurisdiction[\"population_census\"] = tds[1].text.strip()\n    jurisdiction[\"%_white\"] = float(tds[2].text.strip().replace(\",\",\"\"))\n    jurisdiction[\"%_black_or_african_amercian\"] = float(tds[3].text.strip().replace(\",\",\"\"))\n    jurisdiction[\"%_Asian\"] = float(tds[4].text.strip().replace(\",\",\"\"))\n    jurisdiction[\"%_other\"] = float(tds[5].text.strip().replace(\",\",\"\"))\n    jurisdiction[\"%_mixed_race\"] = float(tds[6].text.strip().replace(\",\",\"\"))\n    jurisdiction[\"%_hispanic_latino_of_other_race\"] = float(tds[7].text.strip().replace(\",\",\"\"))\n    jurisdiction[\"%_catholic\"] = float(tds[10].text.strip().replace(\",\",\"\"))\n    jurisdiction[\"%_jewish\"] = float(tds[12].text.strip().replace(\",\",\"\"))\n    jurisdictions.append(jurisdiction)\n\nprint(jurisdictions)\n",
            "execution_count": 10,
            "outputs": [
                {
                    "output_type": "stream",
                    "text": "[{'jurisdiction': 'Queens', 'population_census': '2,229,379', '%_white': 44.1, '%_black_or_african_amercian': 20.0, '%_Asian': 17.6, '%_other': 12.3, '%_mixed_race': 6.1, '%_hispanic_latino_of_other_race': 25.0, '%_catholic': 37.0, '%_jewish': 5.0}, {'jurisdiction': 'Manhattan', 'population_census': '1,537,195', '%_white': 54.4, '%_black_or_african_amercian': 17.4, '%_Asian': 9.4, '%_other': 14.7, '%_mixed_race': 4.1, '%_hispanic_latino_of_other_race': 27.2, '%_catholic': 11.0, '%_jewish': 9.0}, {'jurisdiction': 'Bronx', 'population_census': '1,332,650', '%_white': 29.9, '%_black_or_african_amercian': 35.6, '%_Asian': 3.0, '%_other': 25.7, '%_mixed_race': 5.8, '%_hispanic_latino_of_other_race': 48.4, '%_catholic': 14.0, '%_jewish': 5.0}, {'jurisdiction': 'Staten Island', 'population_census': '443,728', '%_white': 77.6, '%_black_or_african_amercian': 9.7, '%_Asian': 5.7, '%_other': 4.3, '%_mixed_race': 2.7, '%_hispanic_latino_of_other_race': 12.1, '%_catholic': 11.0, '%_jewish': 5.0}, {'jurisdiction': 'NYC Total', 'population_census': '8,008,278', '%_white': 44.7, '%_black_or_african_amercian': 26.6, '%_Asian': 9.8, '%_other': 14.0, '%_mixed_race': 4.9, '%_hispanic_latino_of_other_race': 27.0, '%_catholic': 17.0, '%_jewish': 6.0}]\n",
                    "name": "stdout"
                }
            ]
        },
        {
            "metadata": {},
            "cell_type": "code",
            "source": "df = pd.DataFrame(jurisdictions, columns=[\"jurisdiction\",\"%_white\", \"%_black_or_african_amercian\", \"%_Asian\", \"%_other\", \"%_mixed_race\", \"%_hispanic_latino_of_other_race\"])\ndf.head()",
            "execution_count": 11,
            "outputs": [
                {
                    "output_type": "execute_result",
                    "execution_count": 11,
                    "data": {
                        "text/plain": "    jurisdiction  %_white  %_black_or_african_amercian  %_Asian  %_other  \\\n0         Queens     44.1                         20.0     17.6     12.3   \n1      Manhattan     54.4                         17.4      9.4     14.7   \n2          Bronx     29.9                         35.6      3.0     25.7   \n3  Staten Island     77.6                          9.7      5.7      4.3   \n4      NYC Total     44.7                         26.6      9.8     14.0   \n\n   %_mixed_race  %_hispanic_latino_of_other_race  \n0           6.1                             25.0  \n1           4.1                             27.2  \n2           5.8                             48.4  \n3           2.7                             12.1  \n4           4.9                             27.0  ",
                        "text/html": "<div>\n<style scoped>\n    .dataframe tbody tr th:only-of-type {\n        vertical-align: middle;\n    }\n\n    .dataframe tbody tr th {\n        vertical-align: top;\n    }\n\n    .dataframe thead th {\n        text-align: right;\n    }\n</style>\n<table border=\"1\" class=\"dataframe\">\n  <thead>\n    <tr style=\"text-align: right;\">\n      <th></th>\n      <th>jurisdiction</th>\n      <th>%_white</th>\n      <th>%_black_or_african_amercian</th>\n      <th>%_Asian</th>\n      <th>%_other</th>\n      <th>%_mixed_race</th>\n      <th>%_hispanic_latino_of_other_race</th>\n    </tr>\n  </thead>\n  <tbody>\n    <tr>\n      <th>0</th>\n      <td>Queens</td>\n      <td>44.1</td>\n      <td>20.0</td>\n      <td>17.6</td>\n      <td>12.3</td>\n      <td>6.1</td>\n      <td>25.0</td>\n    </tr>\n    <tr>\n      <th>1</th>\n      <td>Manhattan</td>\n      <td>54.4</td>\n      <td>17.4</td>\n      <td>9.4</td>\n      <td>14.7</td>\n      <td>4.1</td>\n      <td>27.2</td>\n    </tr>\n    <tr>\n      <th>2</th>\n      <td>Bronx</td>\n      <td>29.9</td>\n      <td>35.6</td>\n      <td>3.0</td>\n      <td>25.7</td>\n      <td>5.8</td>\n      <td>48.4</td>\n    </tr>\n    <tr>\n      <th>3</th>\n      <td>Staten Island</td>\n      <td>77.6</td>\n      <td>9.7</td>\n      <td>5.7</td>\n      <td>4.3</td>\n      <td>2.7</td>\n      <td>12.1</td>\n    </tr>\n    <tr>\n      <th>4</th>\n      <td>NYC Total</td>\n      <td>44.7</td>\n      <td>26.6</td>\n      <td>9.8</td>\n      <td>14.0</td>\n      <td>4.9</td>\n      <td>27.0</td>\n    </tr>\n  </tbody>\n</table>\n</div>"
                    },
                    "metadata": {}
                }
            ]
        },
        {
            "metadata": {},
            "cell_type": "markdown",
            "source": "###### Conclusion:\n\nPreliminary finding indicates that"
        },
        {
            "metadata": {},
            "cell_type": "markdown",
            "source": "1.Queens is the second most populous urban area in New York City (NYC), behind Brooklyn. However, with that being said, it is the most ethnically diverse urban area in NYC with the highest Asian ethnic minority population.\n\n2.Despite the fact that Mantthan is the third most populous urban area in New York City (NYC), it has a population density of 27,826 people per square km, making it highest of any borough in the United States. It has the second highest Asian ethnic minority population in NYC."
        },
        {
            "metadata": {},
            "cell_type": "code",
            "source": "",
            "execution_count": null,
            "outputs": []
        }
    ],
    "metadata": {
        "kernelspec": {
            "name": "python3",
            "display_name": "Python 3.7",
            "language": "python"
        },
        "language_info": {
            "name": "python",
            "version": "3.7.9",
            "mimetype": "text/x-python",
            "codemirror_mode": {
                "name": "ipython",
                "version": 3
            },
            "pygments_lexer": "ipython3",
            "nbconvert_exporter": "python",
            "file_extension": ".py"
        }
    },
    "nbformat": 4,
    "nbformat_minor": 1
}